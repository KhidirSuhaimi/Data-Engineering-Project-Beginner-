{
 "cells": [
  {
   "cell_type": "code",
   "execution_count": 10,
   "id": "dbd90fba",
   "metadata": {},
   "outputs": [],
   "source": [
    "import requests\n",
    "import csv\n",
    "import json"
   ]
  },
  {
   "cell_type": "code",
   "execution_count": 11,
   "id": "37ff16c5",
   "metadata": {},
   "outputs": [],
   "source": [
    "api_url = \"https://animechan.io/api/v1/quotes/random\"\n"
   ]
  },
  {
   "cell_type": "code",
   "execution_count": 12,
   "id": "7a14dd51",
   "metadata": {},
   "outputs": [],
   "source": [
    "response = requests.get(api_url)"
   ]
  },
  {
   "cell_type": "code",
   "execution_count": 14,
   "id": "f75c7361",
   "metadata": {},
   "outputs": [
    {
     "name": "stdout",
     "output_type": "stream",
     "text": [
      "{\n",
      "    \"status\": \"success\",\n",
      "    \"data\": {\n",
      "        \"content\": \"A sound soul dwells within a sound mind and a sound body.\",\n",
      "        \"anime\": {\n",
      "            \"id\": 260,\n",
      "            \"name\": \"Soul Eater\"\n",
      "        },\n",
      "        \"character\": {\n",
      "            \"id\": 864,\n",
      "            \"name\": \"Maka Albarn\"\n",
      "        }\n",
      "    }\n",
      "}\n"
     ]
    }
   ],
   "source": [
    "print(json.dumps(response.json(),indent = 4))\n"
   ]
  },
  {
   "cell_type": "code",
   "execution_count": 24,
   "id": "20285cdd",
   "metadata": {},
   "outputs": [
    {
     "name": "stdout",
     "output_type": "stream",
     "text": [
      "Maka Albarn\n"
     ]
    }
   ],
   "source": [
    "data =response.json()\n",
    "print(data[\"data\"][\"character\"][\"name\"])"
   ]
  },
  {
   "cell_type": "code",
   "execution_count": 25,
   "id": "d6e8aa4e",
   "metadata": {},
   "outputs": [
    {
     "name": "stdout",
     "output_type": "stream",
     "text": [
      "Data saved to anime_quotes.csv\n"
     ]
    }
   ],
   "source": [
    "if response.ok:\n",
    "    data = response.json()\n",
    "    \n",
    "    extracted_data =  [\n",
    "        {\n",
    "            \"anime\":data[\"data\"][\"anime\"][\"name\"],\n",
    "            \"character\":data[\"data\"][\"character\"][\"name\"],\n",
    "            \"quote\":data[\"data\"][\"content\"] \n",
    "        }\n",
    "    ]\n",
    "    with open(\"anime_quotes.csv\",mode=\"w\",newline=\"\",encoding=\"utf-8\") as file:\n",
    "        writer = csv.DictWriter(file,fieldnames=[\"anime\",\"character\",\"quote\"])\n",
    "        \n",
    "        writer.writeheader()\n",
    "        \n",
    "        for row in extracted_data:\n",
    "            writer.writerow(row)\n",
    "            \n",
    "    print(\"Data saved to anime_quotes.csv\")\n",
    "    \n",
    "else:\n",
    "    print(f\"Request failed with status code {response.status_code}\")\n",
    "    "
   ]
  },
  {
   "cell_type": "code",
   "execution_count": null,
   "id": "de078b5d",
   "metadata": {},
   "outputs": [],
   "source": []
  }
 ],
 "metadata": {
  "kernelspec": {
   "display_name": "Python 3 (ipykernel)",
   "language": "python",
   "name": "python3"
  },
  "language_info": {
   "codemirror_mode": {
    "name": "ipython",
    "version": 3
   },
   "file_extension": ".py",
   "mimetype": "text/x-python",
   "name": "python",
   "nbconvert_exporter": "python",
   "pygments_lexer": "ipython3",
   "version": "3.11.5"
  }
 },
 "nbformat": 4,
 "nbformat_minor": 5
}
